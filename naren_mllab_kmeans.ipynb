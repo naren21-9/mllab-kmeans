{
  "cells": [
    {
      "cell_type": "markdown",
      "id": "e1074cdb",
      "metadata": {
        "id": "e1074cdb"
      },
      "source": [
        "# **UCS2612 - MACHINE LEARNING LABORATORY**\n",
        "# **Exercise 6 -  K Means Clustering Algorithm**\n",
        "\n",
        "** **\n",
        "**Name:** Naren Srinivasan M\n",
        "\n",
        "**Section:** CSE-A\n",
        "\n",
        "**Reg No:** 3122 21 5001 057"
      ]
    },
    {
      "cell_type": "markdown",
      "source": [
        "# **Aim:**\n",
        "\n",
        "Develop a python program to cluster the human activity using K-means clustering algorithm. Visualize the features from the dataset and interpret the results obtained by the model using Matplotlib library\n",
        "** **\n",
        "# **Code and Output:**\n",
        "\n",
        "**Importing Libraries**"
      ],
      "metadata": {
        "id": "PPTajAm5KqI1"
      },
      "id": "PPTajAm5KqI1"
    },
    {
      "cell_type": "code",
      "execution_count": null,
      "id": "27ee6d91",
      "metadata": {
        "id": "27ee6d91"
      },
      "outputs": [],
      "source": [
        "import pandas as pd\n",
        "import numpy as np\n",
        "import matplotlib.pyplot as plt\n",
        "\n",
        "from sklearn.feature_selection import SelectKBest\n",
        "from sklearn.feature_selection import f_classif\n",
        "from sklearn.feature_selection import RFE\n",
        "\n",
        "from sklearn.linear_model import LogisticRegression\n",
        "from sklearn.decomposition import PCA\n",
        "from sklearn.linear_model import Ridge\n",
        "from sklearn.feature_selection import SelectFromModel\n",
        "from sklearn.preprocessing import LabelEncoder\n",
        "from sklearn.cluster import KMeans\n",
        "from sklearn.metrics import silhouette_score, davies_bouldin_score"
      ]
    },
    {
      "cell_type": "markdown",
      "id": "1d471ed7-edec-40f7-9dba-55d14064cd12",
      "metadata": {
        "id": "1d471ed7-edec-40f7-9dba-55d14064cd12"
      },
      "source": [
        "**Importing dataset**"
      ]
    },
    {
      "cell_type": "code",
      "execution_count": null,
      "id": "3d7159d2-da24-41d7-b181-116b1e790f94",
      "metadata": {
        "id": "3d7159d2-da24-41d7-b181-116b1e790f94"
      },
      "outputs": [],
      "source": [
        "train_df=pd.read_csv(\"train.csv\")\n",
        "test_df=pd.read_csv(\"test.csv\")"
      ]
    },
    {
      "cell_type": "code",
      "execution_count": null,
      "id": "53d988ce-4475-4ac0-a202-6f3a4c7ab774",
      "metadata": {
        "id": "53d988ce-4475-4ac0-a202-6f3a4c7ab774",
        "outputId": "66329ea8-1b82-4a20-a331-bbdf9caf540d"
      },
      "outputs": [
        {
          "name": "stdout",
          "output_type": "stream",
          "text": [
            "\n",
            "\n",
            "The Size of The Training Dataset :  (7352, 563)\n",
            "\n",
            "The Size of The Training Dataset :  (2947, 563)\n"
          ]
        }
      ],
      "source": [
        "print(\"\\n\\nThe Size of The Training Dataset : \",train_df.shape)\n",
        "print(\"\\nThe Size of The Training Dataset : \",test_df.shape)"
      ]
    },
    {
      "cell_type": "code",
      "execution_count": null,
      "id": "c2de830a-da2b-49f0-9208-de17917645e3",
      "metadata": {
        "id": "c2de830a-da2b-49f0-9208-de17917645e3",
        "outputId": "0265cb20-5c02-498d-9238-5c8e9c7c9532"
      },
      "outputs": [
        {
          "data": {
            "text/html": [
              "<div>\n",
              "<style scoped>\n",
              "    .dataframe tbody tr th:only-of-type {\n",
              "        vertical-align: middle;\n",
              "    }\n",
              "\n",
              "    .dataframe tbody tr th {\n",
              "        vertical-align: top;\n",
              "    }\n",
              "\n",
              "    .dataframe thead th {\n",
              "        text-align: right;\n",
              "    }\n",
              "</style>\n",
              "<table border=\"1\" class=\"dataframe\">\n",
              "  <thead>\n",
              "    <tr style=\"text-align: right;\">\n",
              "      <th></th>\n",
              "      <th>tBodyAcc-mean()-X</th>\n",
              "      <th>tBodyAcc-mean()-Y</th>\n",
              "      <th>tBodyAcc-mean()-Z</th>\n",
              "      <th>tBodyAcc-std()-X</th>\n",
              "      <th>tBodyAcc-std()-Y</th>\n",
              "      <th>tBodyAcc-std()-Z</th>\n",
              "      <th>tBodyAcc-mad()-X</th>\n",
              "      <th>tBodyAcc-mad()-Y</th>\n",
              "      <th>tBodyAcc-mad()-Z</th>\n",
              "      <th>tBodyAcc-max()-X</th>\n",
              "      <th>...</th>\n",
              "      <th>fBodyBodyGyroJerkMag-kurtosis()</th>\n",
              "      <th>angle(tBodyAccMean,gravity)</th>\n",
              "      <th>angle(tBodyAccJerkMean),gravityMean)</th>\n",
              "      <th>angle(tBodyGyroMean,gravityMean)</th>\n",
              "      <th>angle(tBodyGyroJerkMean,gravityMean)</th>\n",
              "      <th>angle(X,gravityMean)</th>\n",
              "      <th>angle(Y,gravityMean)</th>\n",
              "      <th>angle(Z,gravityMean)</th>\n",
              "      <th>subject</th>\n",
              "      <th>Activity</th>\n",
              "    </tr>\n",
              "  </thead>\n",
              "  <tbody>\n",
              "    <tr>\n",
              "      <th>0</th>\n",
              "      <td>0.288585</td>\n",
              "      <td>-0.020294</td>\n",
              "      <td>-0.132905</td>\n",
              "      <td>-0.995279</td>\n",
              "      <td>-0.983111</td>\n",
              "      <td>-0.913526</td>\n",
              "      <td>-0.995112</td>\n",
              "      <td>-0.983185</td>\n",
              "      <td>-0.923527</td>\n",
              "      <td>-0.934724</td>\n",
              "      <td>...</td>\n",
              "      <td>-0.710304</td>\n",
              "      <td>-0.112754</td>\n",
              "      <td>0.030400</td>\n",
              "      <td>-0.464761</td>\n",
              "      <td>-0.018446</td>\n",
              "      <td>-0.841247</td>\n",
              "      <td>0.179941</td>\n",
              "      <td>-0.058627</td>\n",
              "      <td>1</td>\n",
              "      <td>STANDING</td>\n",
              "    </tr>\n",
              "    <tr>\n",
              "      <th>1</th>\n",
              "      <td>0.278419</td>\n",
              "      <td>-0.016411</td>\n",
              "      <td>-0.123520</td>\n",
              "      <td>-0.998245</td>\n",
              "      <td>-0.975300</td>\n",
              "      <td>-0.960322</td>\n",
              "      <td>-0.998807</td>\n",
              "      <td>-0.974914</td>\n",
              "      <td>-0.957686</td>\n",
              "      <td>-0.943068</td>\n",
              "      <td>...</td>\n",
              "      <td>-0.861499</td>\n",
              "      <td>0.053477</td>\n",
              "      <td>-0.007435</td>\n",
              "      <td>-0.732626</td>\n",
              "      <td>0.703511</td>\n",
              "      <td>-0.844788</td>\n",
              "      <td>0.180289</td>\n",
              "      <td>-0.054317</td>\n",
              "      <td>1</td>\n",
              "      <td>STANDING</td>\n",
              "    </tr>\n",
              "    <tr>\n",
              "      <th>2</th>\n",
              "      <td>0.279653</td>\n",
              "      <td>-0.019467</td>\n",
              "      <td>-0.113462</td>\n",
              "      <td>-0.995380</td>\n",
              "      <td>-0.967187</td>\n",
              "      <td>-0.978944</td>\n",
              "      <td>-0.996520</td>\n",
              "      <td>-0.963668</td>\n",
              "      <td>-0.977469</td>\n",
              "      <td>-0.938692</td>\n",
              "      <td>...</td>\n",
              "      <td>-0.760104</td>\n",
              "      <td>-0.118559</td>\n",
              "      <td>0.177899</td>\n",
              "      <td>0.100699</td>\n",
              "      <td>0.808529</td>\n",
              "      <td>-0.848933</td>\n",
              "      <td>0.180637</td>\n",
              "      <td>-0.049118</td>\n",
              "      <td>1</td>\n",
              "      <td>STANDING</td>\n",
              "    </tr>\n",
              "    <tr>\n",
              "      <th>3</th>\n",
              "      <td>0.279174</td>\n",
              "      <td>-0.026201</td>\n",
              "      <td>-0.123283</td>\n",
              "      <td>-0.996091</td>\n",
              "      <td>-0.983403</td>\n",
              "      <td>-0.990675</td>\n",
              "      <td>-0.997099</td>\n",
              "      <td>-0.982750</td>\n",
              "      <td>-0.989302</td>\n",
              "      <td>-0.938692</td>\n",
              "      <td>...</td>\n",
              "      <td>-0.482845</td>\n",
              "      <td>-0.036788</td>\n",
              "      <td>-0.012892</td>\n",
              "      <td>0.640011</td>\n",
              "      <td>-0.485366</td>\n",
              "      <td>-0.848649</td>\n",
              "      <td>0.181935</td>\n",
              "      <td>-0.047663</td>\n",
              "      <td>1</td>\n",
              "      <td>STANDING</td>\n",
              "    </tr>\n",
              "    <tr>\n",
              "      <th>4</th>\n",
              "      <td>0.276629</td>\n",
              "      <td>-0.016570</td>\n",
              "      <td>-0.115362</td>\n",
              "      <td>-0.998139</td>\n",
              "      <td>-0.980817</td>\n",
              "      <td>-0.990482</td>\n",
              "      <td>-0.998321</td>\n",
              "      <td>-0.979672</td>\n",
              "      <td>-0.990441</td>\n",
              "      <td>-0.942469</td>\n",
              "      <td>...</td>\n",
              "      <td>-0.699205</td>\n",
              "      <td>0.123320</td>\n",
              "      <td>0.122542</td>\n",
              "      <td>0.693578</td>\n",
              "      <td>-0.615971</td>\n",
              "      <td>-0.847865</td>\n",
              "      <td>0.185151</td>\n",
              "      <td>-0.043892</td>\n",
              "      <td>1</td>\n",
              "      <td>STANDING</td>\n",
              "    </tr>\n",
              "    <tr>\n",
              "      <th>...</th>\n",
              "      <td>...</td>\n",
              "      <td>...</td>\n",
              "      <td>...</td>\n",
              "      <td>...</td>\n",
              "      <td>...</td>\n",
              "      <td>...</td>\n",
              "      <td>...</td>\n",
              "      <td>...</td>\n",
              "      <td>...</td>\n",
              "      <td>...</td>\n",
              "      <td>...</td>\n",
              "      <td>...</td>\n",
              "      <td>...</td>\n",
              "      <td>...</td>\n",
              "      <td>...</td>\n",
              "      <td>...</td>\n",
              "      <td>...</td>\n",
              "      <td>...</td>\n",
              "      <td>...</td>\n",
              "      <td>...</td>\n",
              "      <td>...</td>\n",
              "    </tr>\n",
              "    <tr>\n",
              "      <th>7347</th>\n",
              "      <td>0.299665</td>\n",
              "      <td>-0.057193</td>\n",
              "      <td>-0.181233</td>\n",
              "      <td>-0.195387</td>\n",
              "      <td>0.039905</td>\n",
              "      <td>0.077078</td>\n",
              "      <td>-0.282301</td>\n",
              "      <td>0.043616</td>\n",
              "      <td>0.060410</td>\n",
              "      <td>0.210795</td>\n",
              "      <td>...</td>\n",
              "      <td>-0.880324</td>\n",
              "      <td>-0.190437</td>\n",
              "      <td>0.829718</td>\n",
              "      <td>0.206972</td>\n",
              "      <td>-0.425619</td>\n",
              "      <td>-0.791883</td>\n",
              "      <td>0.238604</td>\n",
              "      <td>0.049819</td>\n",
              "      <td>30</td>\n",
              "      <td>WALKING_UPSTAIRS</td>\n",
              "    </tr>\n",
              "    <tr>\n",
              "      <th>7348</th>\n",
              "      <td>0.273853</td>\n",
              "      <td>-0.007749</td>\n",
              "      <td>-0.147468</td>\n",
              "      <td>-0.235309</td>\n",
              "      <td>0.004816</td>\n",
              "      <td>0.059280</td>\n",
              "      <td>-0.322552</td>\n",
              "      <td>-0.029456</td>\n",
              "      <td>0.080585</td>\n",
              "      <td>0.117440</td>\n",
              "      <td>...</td>\n",
              "      <td>-0.680744</td>\n",
              "      <td>0.064907</td>\n",
              "      <td>0.875679</td>\n",
              "      <td>-0.879033</td>\n",
              "      <td>0.400219</td>\n",
              "      <td>-0.771840</td>\n",
              "      <td>0.252676</td>\n",
              "      <td>0.050053</td>\n",
              "      <td>30</td>\n",
              "      <td>WALKING_UPSTAIRS</td>\n",
              "    </tr>\n",
              "    <tr>\n",
              "      <th>7349</th>\n",
              "      <td>0.273387</td>\n",
              "      <td>-0.017011</td>\n",
              "      <td>-0.045022</td>\n",
              "      <td>-0.218218</td>\n",
              "      <td>-0.103822</td>\n",
              "      <td>0.274533</td>\n",
              "      <td>-0.304515</td>\n",
              "      <td>-0.098913</td>\n",
              "      <td>0.332584</td>\n",
              "      <td>0.043999</td>\n",
              "      <td>...</td>\n",
              "      <td>-0.304029</td>\n",
              "      <td>0.052806</td>\n",
              "      <td>-0.266724</td>\n",
              "      <td>0.864404</td>\n",
              "      <td>0.701169</td>\n",
              "      <td>-0.779133</td>\n",
              "      <td>0.249145</td>\n",
              "      <td>0.040811</td>\n",
              "      <td>30</td>\n",
              "      <td>WALKING_UPSTAIRS</td>\n",
              "    </tr>\n",
              "    <tr>\n",
              "      <th>7350</th>\n",
              "      <td>0.289654</td>\n",
              "      <td>-0.018843</td>\n",
              "      <td>-0.158281</td>\n",
              "      <td>-0.219139</td>\n",
              "      <td>-0.111412</td>\n",
              "      <td>0.268893</td>\n",
              "      <td>-0.310487</td>\n",
              "      <td>-0.068200</td>\n",
              "      <td>0.319473</td>\n",
              "      <td>0.101702</td>\n",
              "      <td>...</td>\n",
              "      <td>-0.344314</td>\n",
              "      <td>-0.101360</td>\n",
              "      <td>0.700740</td>\n",
              "      <td>0.936674</td>\n",
              "      <td>-0.589479</td>\n",
              "      <td>-0.785181</td>\n",
              "      <td>0.246432</td>\n",
              "      <td>0.025339</td>\n",
              "      <td>30</td>\n",
              "      <td>WALKING_UPSTAIRS</td>\n",
              "    </tr>\n",
              "    <tr>\n",
              "      <th>7351</th>\n",
              "      <td>0.351503</td>\n",
              "      <td>-0.012423</td>\n",
              "      <td>-0.203867</td>\n",
              "      <td>-0.269270</td>\n",
              "      <td>-0.087212</td>\n",
              "      <td>0.177404</td>\n",
              "      <td>-0.377404</td>\n",
              "      <td>-0.038678</td>\n",
              "      <td>0.229430</td>\n",
              "      <td>0.269013</td>\n",
              "      <td>...</td>\n",
              "      <td>-0.740738</td>\n",
              "      <td>-0.280088</td>\n",
              "      <td>-0.007739</td>\n",
              "      <td>-0.056088</td>\n",
              "      <td>-0.616956</td>\n",
              "      <td>-0.783267</td>\n",
              "      <td>0.246809</td>\n",
              "      <td>0.036695</td>\n",
              "      <td>30</td>\n",
              "      <td>WALKING_UPSTAIRS</td>\n",
              "    </tr>\n",
              "  </tbody>\n",
              "</table>\n",
              "<p>7352 rows × 563 columns</p>\n",
              "</div>"
            ],
            "text/plain": [
              "      tBodyAcc-mean()-X  tBodyAcc-mean()-Y  tBodyAcc-mean()-Z  \\\n",
              "0              0.288585          -0.020294          -0.132905   \n",
              "1              0.278419          -0.016411          -0.123520   \n",
              "2              0.279653          -0.019467          -0.113462   \n",
              "3              0.279174          -0.026201          -0.123283   \n",
              "4              0.276629          -0.016570          -0.115362   \n",
              "...                 ...                ...                ...   \n",
              "7347           0.299665          -0.057193          -0.181233   \n",
              "7348           0.273853          -0.007749          -0.147468   \n",
              "7349           0.273387          -0.017011          -0.045022   \n",
              "7350           0.289654          -0.018843          -0.158281   \n",
              "7351           0.351503          -0.012423          -0.203867   \n",
              "\n",
              "      tBodyAcc-std()-X  tBodyAcc-std()-Y  tBodyAcc-std()-Z  tBodyAcc-mad()-X  \\\n",
              "0            -0.995279         -0.983111         -0.913526         -0.995112   \n",
              "1            -0.998245         -0.975300         -0.960322         -0.998807   \n",
              "2            -0.995380         -0.967187         -0.978944         -0.996520   \n",
              "3            -0.996091         -0.983403         -0.990675         -0.997099   \n",
              "4            -0.998139         -0.980817         -0.990482         -0.998321   \n",
              "...                ...               ...               ...               ...   \n",
              "7347         -0.195387          0.039905          0.077078         -0.282301   \n",
              "7348         -0.235309          0.004816          0.059280         -0.322552   \n",
              "7349         -0.218218         -0.103822          0.274533         -0.304515   \n",
              "7350         -0.219139         -0.111412          0.268893         -0.310487   \n",
              "7351         -0.269270         -0.087212          0.177404         -0.377404   \n",
              "\n",
              "      tBodyAcc-mad()-Y  tBodyAcc-mad()-Z  tBodyAcc-max()-X  ...  \\\n",
              "0            -0.983185         -0.923527         -0.934724  ...   \n",
              "1            -0.974914         -0.957686         -0.943068  ...   \n",
              "2            -0.963668         -0.977469         -0.938692  ...   \n",
              "3            -0.982750         -0.989302         -0.938692  ...   \n",
              "4            -0.979672         -0.990441         -0.942469  ...   \n",
              "...                ...               ...               ...  ...   \n",
              "7347          0.043616          0.060410          0.210795  ...   \n",
              "7348         -0.029456          0.080585          0.117440  ...   \n",
              "7349         -0.098913          0.332584          0.043999  ...   \n",
              "7350         -0.068200          0.319473          0.101702  ...   \n",
              "7351         -0.038678          0.229430          0.269013  ...   \n",
              "\n",
              "      fBodyBodyGyroJerkMag-kurtosis()  angle(tBodyAccMean,gravity)  \\\n",
              "0                           -0.710304                    -0.112754   \n",
              "1                           -0.861499                     0.053477   \n",
              "2                           -0.760104                    -0.118559   \n",
              "3                           -0.482845                    -0.036788   \n",
              "4                           -0.699205                     0.123320   \n",
              "...                               ...                          ...   \n",
              "7347                        -0.880324                    -0.190437   \n",
              "7348                        -0.680744                     0.064907   \n",
              "7349                        -0.304029                     0.052806   \n",
              "7350                        -0.344314                    -0.101360   \n",
              "7351                        -0.740738                    -0.280088   \n",
              "\n",
              "      angle(tBodyAccJerkMean),gravityMean)  angle(tBodyGyroMean,gravityMean)  \\\n",
              "0                                 0.030400                         -0.464761   \n",
              "1                                -0.007435                         -0.732626   \n",
              "2                                 0.177899                          0.100699   \n",
              "3                                -0.012892                          0.640011   \n",
              "4                                 0.122542                          0.693578   \n",
              "...                                    ...                               ...   \n",
              "7347                              0.829718                          0.206972   \n",
              "7348                              0.875679                         -0.879033   \n",
              "7349                             -0.266724                          0.864404   \n",
              "7350                              0.700740                          0.936674   \n",
              "7351                             -0.007739                         -0.056088   \n",
              "\n",
              "      angle(tBodyGyroJerkMean,gravityMean)  angle(X,gravityMean)  \\\n",
              "0                                -0.018446             -0.841247   \n",
              "1                                 0.703511             -0.844788   \n",
              "2                                 0.808529             -0.848933   \n",
              "3                                -0.485366             -0.848649   \n",
              "4                                -0.615971             -0.847865   \n",
              "...                                    ...                   ...   \n",
              "7347                             -0.425619             -0.791883   \n",
              "7348                              0.400219             -0.771840   \n",
              "7349                              0.701169             -0.779133   \n",
              "7350                             -0.589479             -0.785181   \n",
              "7351                             -0.616956             -0.783267   \n",
              "\n",
              "      angle(Y,gravityMean)  angle(Z,gravityMean)  subject          Activity  \n",
              "0                 0.179941             -0.058627        1          STANDING  \n",
              "1                 0.180289             -0.054317        1          STANDING  \n",
              "2                 0.180637             -0.049118        1          STANDING  \n",
              "3                 0.181935             -0.047663        1          STANDING  \n",
              "4                 0.185151             -0.043892        1          STANDING  \n",
              "...                    ...                   ...      ...               ...  \n",
              "7347              0.238604              0.049819       30  WALKING_UPSTAIRS  \n",
              "7348              0.252676              0.050053       30  WALKING_UPSTAIRS  \n",
              "7349              0.249145              0.040811       30  WALKING_UPSTAIRS  \n",
              "7350              0.246432              0.025339       30  WALKING_UPSTAIRS  \n",
              "7351              0.246809              0.036695       30  WALKING_UPSTAIRS  \n",
              "\n",
              "[7352 rows x 563 columns]"
            ]
          },
          "execution_count": 118,
          "metadata": {},
          "output_type": "execute_result"
        }
      ],
      "source": [
        "train_df"
      ]
    },
    {
      "cell_type": "code",
      "execution_count": null,
      "id": "1e9338e4-a994-4e95-8bb7-6f68dbc9126e",
      "metadata": {
        "id": "1e9338e4-a994-4e95-8bb7-6f68dbc9126e",
        "outputId": "1fd9ad54-6dea-41e2-8b39-c163ccebc7a4"
      },
      "outputs": [
        {
          "data": {
            "text/html": [
              "<div>\n",
              "<style scoped>\n",
              "    .dataframe tbody tr th:only-of-type {\n",
              "        vertical-align: middle;\n",
              "    }\n",
              "\n",
              "    .dataframe tbody tr th {\n",
              "        vertical-align: top;\n",
              "    }\n",
              "\n",
              "    .dataframe thead th {\n",
              "        text-align: right;\n",
              "    }\n",
              "</style>\n",
              "<table border=\"1\" class=\"dataframe\">\n",
              "  <thead>\n",
              "    <tr style=\"text-align: right;\">\n",
              "      <th></th>\n",
              "      <th>tBodyAcc-mean()-X</th>\n",
              "      <th>tBodyAcc-mean()-Y</th>\n",
              "      <th>tBodyAcc-mean()-Z</th>\n",
              "      <th>tBodyAcc-std()-X</th>\n",
              "      <th>tBodyAcc-std()-Y</th>\n",
              "      <th>tBodyAcc-std()-Z</th>\n",
              "      <th>tBodyAcc-mad()-X</th>\n",
              "      <th>tBodyAcc-mad()-Y</th>\n",
              "      <th>tBodyAcc-mad()-Z</th>\n",
              "      <th>tBodyAcc-max()-X</th>\n",
              "      <th>...</th>\n",
              "      <th>fBodyBodyGyroJerkMag-kurtosis()</th>\n",
              "      <th>angle(tBodyAccMean,gravity)</th>\n",
              "      <th>angle(tBodyAccJerkMean),gravityMean)</th>\n",
              "      <th>angle(tBodyGyroMean,gravityMean)</th>\n",
              "      <th>angle(tBodyGyroJerkMean,gravityMean)</th>\n",
              "      <th>angle(X,gravityMean)</th>\n",
              "      <th>angle(Y,gravityMean)</th>\n",
              "      <th>angle(Z,gravityMean)</th>\n",
              "      <th>subject</th>\n",
              "      <th>Activity</th>\n",
              "    </tr>\n",
              "  </thead>\n",
              "  <tbody>\n",
              "    <tr>\n",
              "      <th>0</th>\n",
              "      <td>0.257178</td>\n",
              "      <td>-0.023285</td>\n",
              "      <td>-0.014654</td>\n",
              "      <td>-0.938404</td>\n",
              "      <td>-0.920091</td>\n",
              "      <td>-0.667683</td>\n",
              "      <td>-0.952501</td>\n",
              "      <td>-0.925249</td>\n",
              "      <td>-0.674302</td>\n",
              "      <td>-0.894088</td>\n",
              "      <td>...</td>\n",
              "      <td>-0.705974</td>\n",
              "      <td>0.006462</td>\n",
              "      <td>0.162920</td>\n",
              "      <td>-0.825886</td>\n",
              "      <td>0.271151</td>\n",
              "      <td>-0.720009</td>\n",
              "      <td>0.276801</td>\n",
              "      <td>-0.057978</td>\n",
              "      <td>2</td>\n",
              "      <td>STANDING</td>\n",
              "    </tr>\n",
              "    <tr>\n",
              "      <th>1</th>\n",
              "      <td>0.286027</td>\n",
              "      <td>-0.013163</td>\n",
              "      <td>-0.119083</td>\n",
              "      <td>-0.975415</td>\n",
              "      <td>-0.967458</td>\n",
              "      <td>-0.944958</td>\n",
              "      <td>-0.986799</td>\n",
              "      <td>-0.968401</td>\n",
              "      <td>-0.945823</td>\n",
              "      <td>-0.894088</td>\n",
              "      <td>...</td>\n",
              "      <td>-0.594944</td>\n",
              "      <td>-0.083495</td>\n",
              "      <td>0.017500</td>\n",
              "      <td>-0.434375</td>\n",
              "      <td>0.920593</td>\n",
              "      <td>-0.698091</td>\n",
              "      <td>0.281343</td>\n",
              "      <td>-0.083898</td>\n",
              "      <td>2</td>\n",
              "      <td>STANDING</td>\n",
              "    </tr>\n",
              "    <tr>\n",
              "      <th>2</th>\n",
              "      <td>0.275485</td>\n",
              "      <td>-0.026050</td>\n",
              "      <td>-0.118152</td>\n",
              "      <td>-0.993819</td>\n",
              "      <td>-0.969926</td>\n",
              "      <td>-0.962748</td>\n",
              "      <td>-0.994403</td>\n",
              "      <td>-0.970735</td>\n",
              "      <td>-0.963483</td>\n",
              "      <td>-0.939260</td>\n",
              "      <td>...</td>\n",
              "      <td>-0.640736</td>\n",
              "      <td>-0.034956</td>\n",
              "      <td>0.202302</td>\n",
              "      <td>0.064103</td>\n",
              "      <td>0.145068</td>\n",
              "      <td>-0.702771</td>\n",
              "      <td>0.280083</td>\n",
              "      <td>-0.079346</td>\n",
              "      <td>2</td>\n",
              "      <td>STANDING</td>\n",
              "    </tr>\n",
              "    <tr>\n",
              "      <th>3</th>\n",
              "      <td>0.270298</td>\n",
              "      <td>-0.032614</td>\n",
              "      <td>-0.117520</td>\n",
              "      <td>-0.994743</td>\n",
              "      <td>-0.973268</td>\n",
              "      <td>-0.967091</td>\n",
              "      <td>-0.995274</td>\n",
              "      <td>-0.974471</td>\n",
              "      <td>-0.968897</td>\n",
              "      <td>-0.938610</td>\n",
              "      <td>...</td>\n",
              "      <td>-0.736124</td>\n",
              "      <td>-0.017067</td>\n",
              "      <td>0.154438</td>\n",
              "      <td>0.340134</td>\n",
              "      <td>0.296407</td>\n",
              "      <td>-0.698954</td>\n",
              "      <td>0.284114</td>\n",
              "      <td>-0.077108</td>\n",
              "      <td>2</td>\n",
              "      <td>STANDING</td>\n",
              "    </tr>\n",
              "    <tr>\n",
              "      <th>4</th>\n",
              "      <td>0.274833</td>\n",
              "      <td>-0.027848</td>\n",
              "      <td>-0.129527</td>\n",
              "      <td>-0.993852</td>\n",
              "      <td>-0.967445</td>\n",
              "      <td>-0.978295</td>\n",
              "      <td>-0.994111</td>\n",
              "      <td>-0.965953</td>\n",
              "      <td>-0.977346</td>\n",
              "      <td>-0.938610</td>\n",
              "      <td>...</td>\n",
              "      <td>-0.846595</td>\n",
              "      <td>-0.002223</td>\n",
              "      <td>-0.040046</td>\n",
              "      <td>0.736715</td>\n",
              "      <td>-0.118545</td>\n",
              "      <td>-0.692245</td>\n",
              "      <td>0.290722</td>\n",
              "      <td>-0.073857</td>\n",
              "      <td>2</td>\n",
              "      <td>STANDING</td>\n",
              "    </tr>\n",
              "    <tr>\n",
              "      <th>...</th>\n",
              "      <td>...</td>\n",
              "      <td>...</td>\n",
              "      <td>...</td>\n",
              "      <td>...</td>\n",
              "      <td>...</td>\n",
              "      <td>...</td>\n",
              "      <td>...</td>\n",
              "      <td>...</td>\n",
              "      <td>...</td>\n",
              "      <td>...</td>\n",
              "      <td>...</td>\n",
              "      <td>...</td>\n",
              "      <td>...</td>\n",
              "      <td>...</td>\n",
              "      <td>...</td>\n",
              "      <td>...</td>\n",
              "      <td>...</td>\n",
              "      <td>...</td>\n",
              "      <td>...</td>\n",
              "      <td>...</td>\n",
              "      <td>...</td>\n",
              "    </tr>\n",
              "    <tr>\n",
              "      <th>2942</th>\n",
              "      <td>0.310155</td>\n",
              "      <td>-0.053391</td>\n",
              "      <td>-0.099109</td>\n",
              "      <td>-0.287866</td>\n",
              "      <td>-0.140589</td>\n",
              "      <td>-0.215088</td>\n",
              "      <td>-0.356083</td>\n",
              "      <td>-0.148775</td>\n",
              "      <td>-0.232057</td>\n",
              "      <td>0.185361</td>\n",
              "      <td>...</td>\n",
              "      <td>-0.750809</td>\n",
              "      <td>-0.337422</td>\n",
              "      <td>0.346295</td>\n",
              "      <td>0.884904</td>\n",
              "      <td>-0.698885</td>\n",
              "      <td>-0.651732</td>\n",
              "      <td>0.274627</td>\n",
              "      <td>0.184784</td>\n",
              "      <td>24</td>\n",
              "      <td>WALKING_UPSTAIRS</td>\n",
              "    </tr>\n",
              "    <tr>\n",
              "      <th>2943</th>\n",
              "      <td>0.363385</td>\n",
              "      <td>-0.039214</td>\n",
              "      <td>-0.105915</td>\n",
              "      <td>-0.305388</td>\n",
              "      <td>0.028148</td>\n",
              "      <td>-0.196373</td>\n",
              "      <td>-0.373540</td>\n",
              "      <td>-0.030036</td>\n",
              "      <td>-0.270237</td>\n",
              "      <td>0.185361</td>\n",
              "      <td>...</td>\n",
              "      <td>-0.700274</td>\n",
              "      <td>-0.736701</td>\n",
              "      <td>-0.372889</td>\n",
              "      <td>-0.657421</td>\n",
              "      <td>0.322549</td>\n",
              "      <td>-0.655181</td>\n",
              "      <td>0.273578</td>\n",
              "      <td>0.182412</td>\n",
              "      <td>24</td>\n",
              "      <td>WALKING_UPSTAIRS</td>\n",
              "    </tr>\n",
              "    <tr>\n",
              "      <th>2944</th>\n",
              "      <td>0.349966</td>\n",
              "      <td>0.030077</td>\n",
              "      <td>-0.115788</td>\n",
              "      <td>-0.329638</td>\n",
              "      <td>-0.042143</td>\n",
              "      <td>-0.250181</td>\n",
              "      <td>-0.388017</td>\n",
              "      <td>-0.133257</td>\n",
              "      <td>-0.347029</td>\n",
              "      <td>0.007471</td>\n",
              "      <td>...</td>\n",
              "      <td>-0.467179</td>\n",
              "      <td>-0.181560</td>\n",
              "      <td>0.088574</td>\n",
              "      <td>0.696663</td>\n",
              "      <td>0.363139</td>\n",
              "      <td>-0.655357</td>\n",
              "      <td>0.274479</td>\n",
              "      <td>0.181184</td>\n",
              "      <td>24</td>\n",
              "      <td>WALKING_UPSTAIRS</td>\n",
              "    </tr>\n",
              "    <tr>\n",
              "      <th>2945</th>\n",
              "      <td>0.237594</td>\n",
              "      <td>0.018467</td>\n",
              "      <td>-0.096499</td>\n",
              "      <td>-0.323114</td>\n",
              "      <td>-0.229775</td>\n",
              "      <td>-0.207574</td>\n",
              "      <td>-0.392380</td>\n",
              "      <td>-0.279610</td>\n",
              "      <td>-0.289477</td>\n",
              "      <td>0.007471</td>\n",
              "      <td>...</td>\n",
              "      <td>-0.617737</td>\n",
              "      <td>0.444558</td>\n",
              "      <td>-0.819188</td>\n",
              "      <td>0.929294</td>\n",
              "      <td>-0.008398</td>\n",
              "      <td>-0.659719</td>\n",
              "      <td>0.264782</td>\n",
              "      <td>0.187563</td>\n",
              "      <td>24</td>\n",
              "      <td>WALKING_UPSTAIRS</td>\n",
              "    </tr>\n",
              "    <tr>\n",
              "      <th>2946</th>\n",
              "      <td>0.153627</td>\n",
              "      <td>-0.018437</td>\n",
              "      <td>-0.137018</td>\n",
              "      <td>-0.330046</td>\n",
              "      <td>-0.195253</td>\n",
              "      <td>-0.164339</td>\n",
              "      <td>-0.430974</td>\n",
              "      <td>-0.218295</td>\n",
              "      <td>-0.229933</td>\n",
              "      <td>-0.111527</td>\n",
              "      <td>...</td>\n",
              "      <td>-0.436940</td>\n",
              "      <td>0.598808</td>\n",
              "      <td>-0.287951</td>\n",
              "      <td>0.876030</td>\n",
              "      <td>-0.024965</td>\n",
              "      <td>-0.660080</td>\n",
              "      <td>0.263936</td>\n",
              "      <td>0.188103</td>\n",
              "      <td>24</td>\n",
              "      <td>WALKING_UPSTAIRS</td>\n",
              "    </tr>\n",
              "  </tbody>\n",
              "</table>\n",
              "<p>2947 rows × 563 columns</p>\n",
              "</div>"
            ],
            "text/plain": [
              "      tBodyAcc-mean()-X  tBodyAcc-mean()-Y  tBodyAcc-mean()-Z  \\\n",
              "0              0.257178          -0.023285          -0.014654   \n",
              "1              0.286027          -0.013163          -0.119083   \n",
              "2              0.275485          -0.026050          -0.118152   \n",
              "3              0.270298          -0.032614          -0.117520   \n",
              "4              0.274833          -0.027848          -0.129527   \n",
              "...                 ...                ...                ...   \n",
              "2942           0.310155          -0.053391          -0.099109   \n",
              "2943           0.363385          -0.039214          -0.105915   \n",
              "2944           0.349966           0.030077          -0.115788   \n",
              "2945           0.237594           0.018467          -0.096499   \n",
              "2946           0.153627          -0.018437          -0.137018   \n",
              "\n",
              "      tBodyAcc-std()-X  tBodyAcc-std()-Y  tBodyAcc-std()-Z  tBodyAcc-mad()-X  \\\n",
              "0            -0.938404         -0.920091         -0.667683         -0.952501   \n",
              "1            -0.975415         -0.967458         -0.944958         -0.986799   \n",
              "2            -0.993819         -0.969926         -0.962748         -0.994403   \n",
              "3            -0.994743         -0.973268         -0.967091         -0.995274   \n",
              "4            -0.993852         -0.967445         -0.978295         -0.994111   \n",
              "...                ...               ...               ...               ...   \n",
              "2942         -0.287866         -0.140589         -0.215088         -0.356083   \n",
              "2943         -0.305388          0.028148         -0.196373         -0.373540   \n",
              "2944         -0.329638         -0.042143         -0.250181         -0.388017   \n",
              "2945         -0.323114         -0.229775         -0.207574         -0.392380   \n",
              "2946         -0.330046         -0.195253         -0.164339         -0.430974   \n",
              "\n",
              "      tBodyAcc-mad()-Y  tBodyAcc-mad()-Z  tBodyAcc-max()-X  ...  \\\n",
              "0            -0.925249         -0.674302         -0.894088  ...   \n",
              "1            -0.968401         -0.945823         -0.894088  ...   \n",
              "2            -0.970735         -0.963483         -0.939260  ...   \n",
              "3            -0.974471         -0.968897         -0.938610  ...   \n",
              "4            -0.965953         -0.977346         -0.938610  ...   \n",
              "...                ...               ...               ...  ...   \n",
              "2942         -0.148775         -0.232057          0.185361  ...   \n",
              "2943         -0.030036         -0.270237          0.185361  ...   \n",
              "2944         -0.133257         -0.347029          0.007471  ...   \n",
              "2945         -0.279610         -0.289477          0.007471  ...   \n",
              "2946         -0.218295         -0.229933         -0.111527  ...   \n",
              "\n",
              "      fBodyBodyGyroJerkMag-kurtosis()  angle(tBodyAccMean,gravity)  \\\n",
              "0                           -0.705974                     0.006462   \n",
              "1                           -0.594944                    -0.083495   \n",
              "2                           -0.640736                    -0.034956   \n",
              "3                           -0.736124                    -0.017067   \n",
              "4                           -0.846595                    -0.002223   \n",
              "...                               ...                          ...   \n",
              "2942                        -0.750809                    -0.337422   \n",
              "2943                        -0.700274                    -0.736701   \n",
              "2944                        -0.467179                    -0.181560   \n",
              "2945                        -0.617737                     0.444558   \n",
              "2946                        -0.436940                     0.598808   \n",
              "\n",
              "      angle(tBodyAccJerkMean),gravityMean)  angle(tBodyGyroMean,gravityMean)  \\\n",
              "0                                 0.162920                         -0.825886   \n",
              "1                                 0.017500                         -0.434375   \n",
              "2                                 0.202302                          0.064103   \n",
              "3                                 0.154438                          0.340134   \n",
              "4                                -0.040046                          0.736715   \n",
              "...                                    ...                               ...   \n",
              "2942                              0.346295                          0.884904   \n",
              "2943                             -0.372889                         -0.657421   \n",
              "2944                              0.088574                          0.696663   \n",
              "2945                             -0.819188                          0.929294   \n",
              "2946                             -0.287951                          0.876030   \n",
              "\n",
              "      angle(tBodyGyroJerkMean,gravityMean)  angle(X,gravityMean)  \\\n",
              "0                                 0.271151             -0.720009   \n",
              "1                                 0.920593             -0.698091   \n",
              "2                                 0.145068             -0.702771   \n",
              "3                                 0.296407             -0.698954   \n",
              "4                                -0.118545             -0.692245   \n",
              "...                                    ...                   ...   \n",
              "2942                             -0.698885             -0.651732   \n",
              "2943                              0.322549             -0.655181   \n",
              "2944                              0.363139             -0.655357   \n",
              "2945                             -0.008398             -0.659719   \n",
              "2946                             -0.024965             -0.660080   \n",
              "\n",
              "      angle(Y,gravityMean)  angle(Z,gravityMean)  subject          Activity  \n",
              "0                 0.276801             -0.057978        2          STANDING  \n",
              "1                 0.281343             -0.083898        2          STANDING  \n",
              "2                 0.280083             -0.079346        2          STANDING  \n",
              "3                 0.284114             -0.077108        2          STANDING  \n",
              "4                 0.290722             -0.073857        2          STANDING  \n",
              "...                    ...                   ...      ...               ...  \n",
              "2942              0.274627              0.184784       24  WALKING_UPSTAIRS  \n",
              "2943              0.273578              0.182412       24  WALKING_UPSTAIRS  \n",
              "2944              0.274479              0.181184       24  WALKING_UPSTAIRS  \n",
              "2945              0.264782              0.187563       24  WALKING_UPSTAIRS  \n",
              "2946              0.263936              0.188103       24  WALKING_UPSTAIRS  \n",
              "\n",
              "[2947 rows x 563 columns]"
            ]
          },
          "execution_count": 119,
          "metadata": {},
          "output_type": "execute_result"
        }
      ],
      "source": [
        "test_df"
      ]
    },
    {
      "cell_type": "markdown",
      "id": "c2911f17-b34f-4c07-b112-2666102f7bb9",
      "metadata": {
        "id": "c2911f17-b34f-4c07-b112-2666102f7bb9"
      },
      "source": [
        "**Data Preprocessing**\n",
        "\n"
      ]
    },
    {
      "cell_type": "code",
      "execution_count": null,
      "id": "f65c71fc-90a0-485f-86b2-ece88e024adc",
      "metadata": {
        "id": "f65c71fc-90a0-485f-86b2-ece88e024adc",
        "outputId": "1d635248-5a00-48d0-d0d2-7a483da5b5bc"
      },
      "outputs": [
        {
          "name": "stdout",
          "output_type": "stream",
          "text": [
            "The Missing Values in The Training Dataset\n",
            "\n",
            " tBodyAcc-mean()-X       0\n",
            "tBodyAcc-mean()-Y       0\n",
            "tBodyAcc-mean()-Z       0\n",
            "tBodyAcc-std()-X        0\n",
            "tBodyAcc-std()-Y        0\n",
            "                       ..\n",
            "angle(X,gravityMean)    0\n",
            "angle(Y,gravityMean)    0\n",
            "angle(Z,gravityMean)    0\n",
            "subject                 0\n",
            "Activity                0\n",
            "Length: 563, dtype: int64\n"
          ]
        }
      ],
      "source": [
        "print(\"The Missing Values in The Training Dataset\\n\\n\",train_df.isnull().sum())"
      ]
    },
    {
      "cell_type": "code",
      "execution_count": null,
      "id": "18792167-6f56-49a1-b871-b0aa3df9e58b",
      "metadata": {
        "id": "18792167-6f56-49a1-b871-b0aa3df9e58b",
        "outputId": "99ad87e3-fdf0-4e55-c13f-7a605845de20"
      },
      "outputs": [
        {
          "name": "stdout",
          "output_type": "stream",
          "text": [
            "The Missing Values in The Testing Dataset\n",
            "\n",
            " tBodyAcc-mean()-X       0\n",
            "tBodyAcc-mean()-Y       0\n",
            "tBodyAcc-mean()-Z       0\n",
            "tBodyAcc-std()-X        0\n",
            "tBodyAcc-std()-Y        0\n",
            "                       ..\n",
            "angle(X,gravityMean)    0\n",
            "angle(Y,gravityMean)    0\n",
            "angle(Z,gravityMean)    0\n",
            "subject                 0\n",
            "Activity                0\n",
            "Length: 563, dtype: int64\n"
          ]
        }
      ],
      "source": [
        "print(\"The Missing Values in The Testing Dataset\\n\\n\",test_df.isnull().sum())"
      ]
    },
    {
      "cell_type": "code",
      "execution_count": null,
      "id": "ed1dac9d-c8fe-4cff-88b8-aa2ba633c959",
      "metadata": {
        "id": "ed1dac9d-c8fe-4cff-88b8-aa2ba633c959",
        "outputId": "049bc2d6-4eff-415f-d37c-8d3adaaa9985"
      },
      "outputs": [
        {
          "name": "stdout",
          "output_type": "stream",
          "text": [
            "Index(['tBodyAcc-mean()-X', 'tBodyAcc-mean()-Y', 'tBodyAcc-mean()-Z',\n",
            "       'tBodyAcc-std()-X', 'tBodyAcc-std()-Y', 'tBodyAcc-std()-Z',\n",
            "       'tBodyAcc-mad()-X', 'tBodyAcc-mad()-Y', 'tBodyAcc-mad()-Z',\n",
            "       'tBodyAcc-max()-X',\n",
            "       ...\n",
            "       'fBodyBodyGyroJerkMag-kurtosis()', 'angle(tBodyAccMean,gravity)',\n",
            "       'angle(tBodyAccJerkMean),gravityMean)',\n",
            "       'angle(tBodyGyroMean,gravityMean)',\n",
            "       'angle(tBodyGyroJerkMean,gravityMean)', 'angle(X,gravityMean)',\n",
            "       'angle(Y,gravityMean)', 'angle(Z,gravityMean)', 'subject', 'Activity'],\n",
            "      dtype='object', length=563)\n"
          ]
        }
      ],
      "source": [
        "print(train_df.columns)"
      ]
    },
    {
      "cell_type": "code",
      "execution_count": null,
      "id": "c1062f1e-4aaa-4f33-a526-ed5a136f316a",
      "metadata": {
        "id": "c1062f1e-4aaa-4f33-a526-ed5a136f316a"
      },
      "outputs": [],
      "source": [
        "x=train_df.drop(columns={\"Activity\"})\n",
        "y=train_df[\"Activity\"]"
      ]
    },
    {
      "cell_type": "markdown",
      "id": "61b8df9e-c388-42ee-a588-85c1d03efec0",
      "metadata": {
        "id": "61b8df9e-c388-42ee-a588-85c1d03efec0"
      },
      "source": [
        "**Feature Engineering Techniques**"
      ]
    },
    {
      "cell_type": "markdown",
      "id": "97fa2adb",
      "metadata": {
        "id": "97fa2adb"
      },
      "source": [
        "1) Select Best K  (  Filter method )"
      ]
    },
    {
      "cell_type": "code",
      "execution_count": null,
      "id": "89c7ee1a-4c99-4fd5-b06f-8df3a2acbb77",
      "metadata": {
        "id": "89c7ee1a-4c99-4fd5-b06f-8df3a2acbb77",
        "outputId": "64d984e1-daf1-47dc-cb82-98e976f0b661"
      },
      "outputs": [
        {
          "name": "stdout",
          "output_type": "stream",
          "text": [
            "Selected feature names : \n",
            "\n",
            "Index(['tGravityAcc-mean()-X', 'tGravityAcc-max()-X', 'tGravityAcc-min()-X',\n",
            "       'fBodyAccJerk-entropy()-X', 'fBodyAccJerk-entropy()-Y'],\n",
            "      dtype='object')\n"
          ]
        }
      ],
      "source": [
        "test = SelectKBest(score_func=f_classif, k=5)\n",
        "fit = test.fit(x, y)\n",
        "np.set_printoptions(precision=10)\n",
        "\n",
        "features = fit.transform(x)\n",
        "\n",
        "selected_indices = fit.get_support(indices=True)\n",
        "\n",
        "selected_feature_names = x.columns[selected_indices]\n",
        "\n",
        "print(\"Selected feature names : \\n\")\n",
        "print(selected_feature_names)"
      ]
    },
    {
      "cell_type": "code",
      "execution_count": null,
      "id": "c9adadc0-f092-4763-9473-407466e32104",
      "metadata": {
        "id": "c9adadc0-f092-4763-9473-407466e32104"
      },
      "outputs": [],
      "source": [
        "train_df1 = train_df[selected_feature_names].copy()\n",
        "test_df1 = test_df[selected_feature_names].copy()"
      ]
    },
    {
      "cell_type": "code",
      "execution_count": null,
      "id": "5ffbcb43-5aae-4181-8419-4835d0d1bb10",
      "metadata": {
        "id": "5ffbcb43-5aae-4181-8419-4835d0d1bb10",
        "outputId": "cd6d2ee8-f459-47e5-df05-3b01650ab5c0"
      },
      "outputs": [
        {
          "name": "stdout",
          "output_type": "stream",
          "text": [
            "\n",
            "After Feature Selection The Shape of The Training Dataset :  (7352, 5)\n",
            "After Feature Selection The Shape of The Testing Dataset  :  (2947, 5)\n"
          ]
        }
      ],
      "source": [
        "print(\"\\nAfter Feature Selection The Shape of The Training Dataset : \",train_df1.shape)\n",
        "print(\"After Feature Selection The Shape of The Testing Dataset  : \",test_df1.shape)"
      ]
    },
    {
      "cell_type": "code",
      "execution_count": null,
      "id": "b84ea72c-2635-447d-9b5d-72ee8b6072b9",
      "metadata": {
        "id": "b84ea72c-2635-447d-9b5d-72ee8b6072b9"
      },
      "outputs": [],
      "source": [
        "n_clusters = 3\n",
        "kmeans = KMeans(n_clusters=n_clusters, n_init=10, random_state=42)\n",
        "kmeans.fit(train_df1)\n",
        "train_clusters = kmeans.predict(train_df1)\n",
        "test_clusters = kmeans.predict(test_df1)\n",
        "cluster_centroids = kmeans.cluster_centers_"
      ]
    },
    {
      "cell_type": "code",
      "execution_count": null,
      "id": "d605fc5b-6f99-4281-bed3-ce702b0c5a64",
      "metadata": {
        "id": "d605fc5b-6f99-4281-bed3-ce702b0c5a64",
        "outputId": "18fdec9d-03be-4074-cee6-980f8faad2e6"
      },
      "outputs": [
        {
          "name": "stdout",
          "output_type": "stream",
          "text": [
            "Silhouette Score ( Training dataset )   : 0.8270090285139965\n",
            "Silhouette Score ( Testing dataset  )   : 0.830854104944898\n"
          ]
        }
      ],
      "source": [
        "silhouette_avg11 = silhouette_score(train_df1, train_clusters)\n",
        "silhouette_avg12 = silhouette_score(test_df1, test_clusters)\n",
        "print(f\"Silhouette Score ( Training dataset )   : {silhouette_avg11}\")\n",
        "print(f\"Silhouette Score ( Testing dataset  )   : {silhouette_avg12}\")"
      ]
    },
    {
      "cell_type": "code",
      "execution_count": null,
      "id": "e2e04d34",
      "metadata": {
        "id": "e2e04d34",
        "outputId": "d8d215b2-43fb-46a0-b244-a919e26ff57d"
      },
      "outputs": [
        {
          "data": {
            "image/png": "[encoded data removed]",
            "text/plain": [
              "<Figure size 400x400 with 1 Axes>"
            ]
          },
          "metadata": {},
          "output_type": "display_data"
        }
      ],
      "source": [
        "plt.figure(figsize=(4, 4))\n",
        "\n",
        "for cluster in range(n_clusters):\n",
        "    cluster_data = train_df1[train_clusters == cluster]\n",
        "\n",
        "    plt.scatter(cluster_data['tGravityAcc-mean()-X'], cluster_data['tGravityAcc-max()-X'], label=f'Cluster {cluster}')\n",
        "\n",
        "plt.scatter(cluster_centroids[:, 0], cluster_centroids[:, 1], marker='x', color='black', s=100, label='Centroids')\n",
        "\n",
        "plt.title('Clustering Results')\n",
        "plt.xlabel('GravityAcc-mean()-X')\n",
        "plt.ylabel('tGravityAcc-max()-X')\n",
        "plt.legend()\n",
        "plt.grid(True)\n",
        "plt.show()"
      ]
    },
    {
      "cell_type": "markdown",
      "id": "186525ec",
      "metadata": {
        "id": "186525ec"
      },
      "source": [
        "2) Ridge Regression    (  Embedded Method )"
      ]
    },
    {
      "cell_type": "code",
      "execution_count": null,
      "id": "21b2ee52",
      "metadata": {
        "id": "21b2ee52",
        "outputId": "0775f26e-be38-4fc1-92cb-e8d504c604ab"
      },
      "outputs": [
        {
          "name": "stdout",
          "output_type": "stream",
          "text": [
            "Selected feature names : \n",
            "\n",
            "Index(['tBodyAcc-std()-X', 'tBodyAcc-sma()', 'tGravityAcc-std()-X',\n",
            "       'tBodyGyroJerk-std()-Z', 'tBodyGyroJerk-energy()-Z', 'fBodyAcc-std()-X',\n",
            "       'fBodyGyro-bandsEnergy()-9,16.2', 'fBodyGyro-bandsEnergy()-17,32.2'],\n",
            "      dtype='object')\n"
          ]
        }
      ],
      "source": [
        "label_encoder = LabelEncoder()\n",
        "y_encoded = label_encoder.fit_transform(y)\n",
        "\n",
        "ridge = Ridge(alpha=1.0)\n",
        "select_from_model = SelectFromModel(ridge, max_features=8)\n",
        "select_from_model.fit(x, y_encoded)\n",
        "features_selected = select_from_model.transform(x)\n",
        "selected_indices = select_from_model.get_support(indices=True)\n",
        "selected_feature_names = x.columns[selected_indices]\n",
        "print(\"Selected feature names : \\n\")\n",
        "print(selected_feature_names)"
      ]
    },
    {
      "cell_type": "code",
      "execution_count": null,
      "id": "c4fed961",
      "metadata": {
        "id": "c4fed961"
      },
      "outputs": [],
      "source": [
        "train_df2 = train_df[selected_feature_names].copy()\n",
        "test_df2 = test_df[selected_feature_names].copy()"
      ]
    },
    {
      "cell_type": "code",
      "execution_count": null,
      "id": "957c8e8a",
      "metadata": {
        "id": "957c8e8a"
      },
      "outputs": [],
      "source": [
        "n_clusters = 3\n",
        "kmeans = KMeans(n_clusters=n_clusters, n_init=10, random_state=42)\n",
        "kmeans.fit(train_df2)\n",
        "train_clusters = kmeans.predict(train_df2)\n",
        "test_clusters = kmeans.predict(test_df2)\n",
        "cluster_centroids = kmeans.cluster_centers_"
      ]
    },
    {
      "cell_type": "code",
      "execution_count": null,
      "id": "429fc813",
      "metadata": {
        "id": "429fc813",
        "outputId": "9e25e91e-d209-4ca5-dab6-658c0e7791b4"
      },
      "outputs": [
        {
          "name": "stdout",
          "output_type": "stream",
          "text": [
            "Silhouette Score ( Training dataset )   : 0.7140380577893611\n",
            "Silhouette Score ( Testing dataset  )   : 0.7355803254687658\n"
          ]
        }
      ],
      "source": [
        "silhouette_avg21 = silhouette_score(train_df2, train_clusters)\n",
        "silhouette_avg22 = silhouette_score(test_df2, test_clusters)\n",
        "print(f\"Silhouette Score ( Training dataset )   : {silhouette_avg21}\")\n",
        "print(f\"Silhouette Score ( Testing dataset  )   : {silhouette_avg22}\")"
      ]
    },
    {
      "cell_type": "code",
      "execution_count": null,
      "id": "a2202478",
      "metadata": {
        "id": "a2202478",
        "outputId": "ee34d274-7885-437d-8634-abc7ce845b12"
      },
      "outputs": [
        {
          "data": {
            "image/png": "[encoded data removed]",
            "text/plain": [
              "<Figure size 400x400 with 1 Axes>"
            ]
          },
          "metadata": {},
          "output_type": "display_data"
        }
      ],
      "source": [
        "plt.figure(figsize=(4, 4))\n",
        "\n",
        "for cluster in range(n_clusters):\n",
        "    cluster_data = train_df2[train_clusters == cluster]\n",
        "\n",
        "    plt.scatter(cluster_data['tBodyAcc-std()-X'], cluster_data['tBodyAcc-sma()'], label=f'Cluster {cluster}')\n",
        "\n",
        "plt.scatter(cluster_centroids[:, 0], cluster_centroids[:, 1], marker='x', color='black', s=100, label='Centroids')\n",
        "\n",
        "plt.title('Clustering Results')\n",
        "plt.xlabel('GravityAcc-mean()-X')\n",
        "plt.ylabel('tGravityAcc-max()-X')\n",
        "plt.legend()\n",
        "plt.grid(True)\n",
        "plt.show()"
      ]
    },
    {
      "cell_type": "markdown",
      "id": "0f5ad69d",
      "metadata": {
        "id": "0f5ad69d"
      },
      "source": [
        "3) PCA"
      ]
    },
    {
      "cell_type": "code",
      "execution_count": null,
      "id": "08025e13",
      "metadata": {
        "id": "08025e13",
        "outputId": "6960d4e0-00a8-4759-eb05-b2526f9dc4d6"
      },
      "outputs": [
        {
          "name": "stdout",
          "output_type": "stream",
          "text": [
            "Selected feature names:\n",
            "['tBodyAcc-mean()-X', 'tBodyAcc-mean()-Y', 'tBodyAcc-mean()-Z', 'tBodyAcc-std()-X', 'tBodyAcc-std()-Y', 'tBodyAcc-std()-Z', 'tBodyAcc-mad()-X', 'tBodyAcc-mad()-Y', 'tBodyAcc-mad()-Z', 'tBodyAcc-max()-X', 'tBodyAcc-max()-Y']\n"
          ]
        }
      ],
      "source": [
        "pca = PCA(n_components=11)\n",
        "\n",
        "pca.fit(x)\n",
        "\n",
        "selected_feature_indices = pca.components_\n",
        "\n",
        "selected_feature_names = [x.columns[i] for i in range(len(selected_feature_indices))]\n",
        "\n",
        "print(\"Selected feature names:\")\n",
        "print(selected_feature_names)\n"
      ]
    },
    {
      "cell_type": "code",
      "execution_count": null,
      "id": "d3e07357",
      "metadata": {
        "id": "d3e07357"
      },
      "outputs": [],
      "source": [
        "train_df3 = train_df[selected_feature_names].copy()\n",
        "test_df3 = test_df[selected_feature_names].copy()"
      ]
    },
    {
      "cell_type": "code",
      "execution_count": null,
      "id": "9526150f",
      "metadata": {
        "id": "9526150f"
      },
      "outputs": [],
      "source": [
        "n_clusters = 3\n",
        "kmeans = KMeans(n_clusters=n_clusters, n_init=10, random_state=42)\n",
        "kmeans.fit(train_df3)\n",
        "train_clusters = kmeans.predict(train_df3)\n",
        "test_clusters = kmeans.predict(test_df3)\n",
        "cluster_centroids = kmeans.cluster_centers_"
      ]
    },
    {
      "cell_type": "code",
      "execution_count": null,
      "id": "48fe2202",
      "metadata": {
        "id": "48fe2202",
        "outputId": "d1717532-0d50-4650-faf3-1c749016acb0"
      },
      "outputs": [
        {
          "name": "stdout",
          "output_type": "stream",
          "text": [
            "Silhouette Score ( Training dataset )   : 0.6488163273987868\n",
            "Silhouette Score ( Testing dataset  )   : 0.6478744052260157\n"
          ]
        }
      ],
      "source": [
        "silhouette_avg31 = silhouette_score(train_df3, train_clusters)\n",
        "silhouette_avg32 = silhouette_score(test_df3, test_clusters)\n",
        "print(f\"Silhouette Score ( Training dataset )   : {silhouette_avg31}\")\n",
        "print(f\"Silhouette Score ( Testing dataset  )   : {silhouette_avg32}\")"
      ]
    },
    {
      "cell_type": "code",
      "execution_count": null,
      "id": "5a2cf8b3-cc2d-48c7-b290-42daa8c6d6cd",
      "metadata": {
        "id": "5a2cf8b3-cc2d-48c7-b290-42daa8c6d6cd",
        "outputId": "3ffe2fb7-c4ac-4bc3-fb1d-a8875044c4c7"
      },
      "outputs": [
        {
          "data": {
            "image/png": "[encoded data removed]",
            "text/plain": [
              "<Figure size 400x400 with 1 Axes>"
            ]
          },
          "metadata": {},
          "output_type": "display_data"
        }
      ],
      "source": [
        "plt.figure(figsize=(4, 4))\n",
        "\n",
        "for cluster in range(n_clusters):\n",
        "    cluster_data = train_df3[train_clusters == cluster]\n",
        "\n",
        "    plt.scatter(cluster_data['tBodyAcc-mean()-X'], cluster_data['tBodyAcc-mean()-Y'], label=f'Cluster {cluster}')\n",
        "\n",
        "plt.scatter(cluster_centroids[:, 0], cluster_centroids[:, 1], marker='x', color='black', s=100, label='Centroids')\n",
        "\n",
        "plt.title('Clustering Results')\n",
        "plt.xlabel('GravityAcc-mean()-X')\n",
        "plt.ylabel('tGravityAcc-max()-X')\n",
        "plt.legend()\n",
        "plt.grid(True)\n",
        "plt.show()"
      ]
    },
    {
      "cell_type": "code",
      "execution_count": null,
      "id": "9442590a",
      "metadata": {
        "id": "9442590a",
        "outputId": "246d7d97-fa2f-47a8-e72f-7afbd03aeff1"
      },
      "outputs": [
        {
          "name": "stdout",
          "output_type": "stream",
          "text": [
            "\n",
            "\n",
            "1) Select Best K  (  Filter method )\n",
            "Silhouette Score ( Training dataset )   : 0.8270090285139965\n",
            "Silhouette Score ( Testing dataset  )   : 0.830854104944898\n",
            "\n",
            "\n",
            "2) Ridge Regression\n",
            "Silhouette Score ( Training dataset )   : 0.7140380577893611\n",
            "Silhouette Score ( Testing dataset  )   : 0.7355803254687658\n",
            "\n",
            "\n",
            "3) PCA\n",
            "Silhouette Score ( Training dataset )   : 0.6488163273987868\n",
            "Silhouette Score ( Testing dataset  )   : 0.6478744052260157\n"
          ]
        }
      ],
      "source": [
        "print(\"\\n\\n1) Select Best K  (  Filter method )\")\n",
        "\n",
        "print(f\"Silhouette Score ( Training dataset )   : {silhouette_avg11}\")\n",
        "print(f\"Silhouette Score ( Testing dataset  )   : {silhouette_avg12}\")\n",
        "\n",
        "\n",
        "print(\"\\n\\n2) Ridge Regression\")\n",
        "\n",
        "print(f\"Silhouette Score ( Training dataset )   : {silhouette_avg21}\")\n",
        "print(f\"Silhouette Score ( Testing dataset  )   : {silhouette_avg22}\")\n",
        "\n",
        "print(\"\\n\\n3) PCA\")\n",
        "\n",
        "print(f\"Silhouette Score ( Training dataset )   : {silhouette_avg31}\")\n",
        "print(f\"Silhouette Score ( Testing dataset  )   : {silhouette_avg32}\")"
      ]
    },
    {
      "cell_type": "markdown",
      "id": "d8affd67",
      "metadata": {
        "id": "d8affd67"
      },
      "source": [
        "# **Inference:**\n",
        "\n",
        "The model built with select best K feature Engineering techniques gives the best Silhouette Score\n",
        "\n",
        "** **\n",
        "# **Learning Outcome:**\n",
        "\n",
        "1. Better understanding of K means clustering algorithm\n",
        "2. Better understanding of feature selection techniques for clustering problems\n",
        "** **\n"
      ]
    }
  ],
  "metadata": {
    "kernelspec": {
      "display_name": "Python 3 (ipykernel)",
      "language": "python",
      "name": "python3"
    },
    "language_info": {
      "codemirror_mode": {
        "name": "ipython",
        "version": 3
      },
      "file_extension": ".py",
      "mimetype": "text/x-python",
      "name": "python",
      "nbconvert_exporter": "python",
      "pygments_lexer": "ipython3",
      "version": "3.11.0"
    },
    "colab": {
      "provenance": []
    }
  },
  "nbformat": 4,
  "nbformat_minor": 5
}